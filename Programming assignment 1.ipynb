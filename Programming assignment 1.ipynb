{
 "cells": [
  {
   "cell_type": "code",
   "execution_count": 1,
   "metadata": {},
   "outputs": [],
   "source": [
    "#program to print hello world\n",
    "a = \"hello world\"\n",
    "print(a)"
   ]
  },
  {
   "cell_type": "code",
   "execution_count": 2,
   "metadata": {},
   "outputs": [
    {
     "name": "stdout",
     "output_type": "stream",
     "text": [
      "30\n",
      "0.5\n"
     ]
    }
   ],
   "source": [
    "#program to do arithematical operations addition and division\n",
    "a= 10\n",
    "b= 20\n",
    "#addition\n",
    "c= a+b\n",
    "print(c)\n",
    "#division\n",
    "d= a/b\n",
    "print(d)"
   ]
  },
  {
   "cell_type": "code",
   "execution_count": 3,
   "metadata": {},
   "outputs": [
    {
     "name": "stdout",
     "output_type": "stream",
     "text": [
      "input the first side of triangle:10\n",
      "input the second side of the triangle:20\n",
      "input the third side of triangle:20\n",
      "the area of triangle is 96.82\n"
     ]
    }
   ],
   "source": [
    "#program to find the area of triangle\n",
    "a= float(input(\"input the first side of triangle:\"))\n",
    "b= float(input(\"input the second side of the triangle:\"))\n",
    "c= float(input(\"input the third side of triangle:\"))\n",
    "#semi-perimeter\n",
    "s = ((a+b+c)/2)\n",
    "#area\n",
    "area =(s*(s-a)*(s-b)*(s-c))**0.5\n",
    "\n",
    "print(\"the area of triangle is %0.2f\" %area)\n",
    "       "
   ]
  },
  {
   "cell_type": "code",
   "execution_count": 14,
   "metadata": {},
   "outputs": [
    {
     "name": "stdout",
     "output_type": "stream",
     "text": [
      "the value of x after swapping 100\n",
      "the value of y after swapping 50\n"
     ]
    }
   ],
   "source": [
    "#swap two variables\n",
    "x= 50\n",
    "y= 100\n",
    "temp=x\n",
    "x=y\n",
    "y=temp\n",
    "print(\"the value of x after swapping {}\".format(x))\n",
    "print(\"the value of y after swapping {}\".format(y))\n"
   ]
  },
  {
   "cell_type": "code",
   "execution_count": 15,
   "metadata": {},
   "outputs": [
    {
     "name": "stdout",
     "output_type": "stream",
     "text": [
      "133\n"
     ]
    }
   ],
   "source": [
    "#to generate random number\n",
    "import random\n",
    "\n",
    "print(random.randint(100,200))"
   ]
  },
  {
   "cell_type": "code",
   "execution_count": null,
   "metadata": {},
   "outputs": [],
   "source": []
  }
 ],
 "metadata": {
  "kernelspec": {
   "display_name": "Python 3",
   "language": "python",
   "name": "python3"
  },
  "language_info": {
   "codemirror_mode": {
    "name": "ipython",
    "version": 3
   },
   "file_extension": ".py",
   "mimetype": "text/x-python",
   "name": "python",
   "nbconvert_exporter": "python",
   "pygments_lexer": "ipython3",
   "version": "3.8.5"
  }
 },
 "nbformat": 4,
 "nbformat_minor": 4
}
